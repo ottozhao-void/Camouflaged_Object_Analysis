{
 "cells": [
  {
   "cell_type": "code",
   "execution_count": 1,
   "metadata": {},
   "outputs": [],
   "source": [
    "import torch\n",
    "import torch.nn as nn\n",
    "from Camouflage_Dataset import CamouflageDataset\n",
    "from feature_extraction import FeatureExtractor\n"
   ]
  },
  {
   "cell_type": "code",
   "execution_count": 2,
   "metadata": {},
   "outputs": [],
   "source": [
    "camouflage_dataset = CamouflageDataset(\n",
    "    dataset_dir=\"/data1/zhaofanghan/Advanced_ML_Coursework/dataset\",\n",
    "    split=\"test\"\n",
    ")"
   ]
  },
  {
   "cell_type": "code",
   "execution_count": 3,
   "metadata": {},
   "outputs": [],
   "source": [
    "\n",
    "feature_extractor = FeatureExtractor()\n",
    "test_data = camouflage_dataset[0][0].unsqueeze(0)\n",
    "feature = feature_extractor(test_data)"
   ]
  }
 ],
 "metadata": {
  "kernelspec": {
   "display_name": "moment-detr",
   "language": "python",
   "name": "python3"
  },
  "language_info": {
   "codemirror_mode": {
    "name": "ipython",
    "version": 3
   },
   "file_extension": ".py",
   "mimetype": "text/x-python",
   "name": "python",
   "nbconvert_exporter": "python",
   "pygments_lexer": "ipython3",
   "version": "3.9.20"
  }
 },
 "nbformat": 4,
 "nbformat_minor": 2
}
