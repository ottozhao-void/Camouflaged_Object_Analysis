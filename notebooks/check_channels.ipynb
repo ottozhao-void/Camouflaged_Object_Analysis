{
 "cells": [
  {
   "cell_type": "code",
   "execution_count": 1,
   "metadata": {},
   "outputs": [],
   "source": [
    "from torchvision.transforms import ToTensor\n",
    "from PIL import Image\n",
    "from pathlib import Path\n",
    "import torch\n",
    "import torchvision.transforms as t\n",
    "\n",
    "mask_path = \"/data1/zhaofanghan/Advanced_ML_Coursework/dataset/train/GT\"\n",
    "mask_path = Path(mask_path)\n",
    "\n",
    "masks = [mask for mask in mask_path.iterdir()]\n"
   ]
  },
  {
   "cell_type": "code",
   "execution_count": 14,
   "metadata": {},
   "outputs": [],
   "source": [
    "for mask in masks:\n",
    "    if ToTensor()(Image.open(mask)).shape[0] == 3:\n",
    "        print(f\"{mask.name} has {3} channels!!\")"
   ]
  },
  {
   "cell_type": "code",
   "execution_count": 13,
   "metadata": {},
   "outputs": [],
   "source": [
    "wrong_mask = \"dataset/train/GT/camourflage_00007.png\"\n",
    "\n",
    "Image.open(wrong_mask).convert(\"L\").save(\"dataset/train/GT/camourflage_00007.png\")"
   ]
  }
 ],
 "metadata": {
  "kernelspec": {
   "display_name": "moment-detr",
   "language": "python",
   "name": "python3"
  },
  "language_info": {
   "codemirror_mode": {
    "name": "ipython",
    "version": 3
   },
   "file_extension": ".py",
   "mimetype": "text/x-python",
   "name": "python",
   "nbconvert_exporter": "python",
   "pygments_lexer": "ipython3",
   "version": "3.9.21"
  }
 },
 "nbformat": 4,
 "nbformat_minor": 2
}
