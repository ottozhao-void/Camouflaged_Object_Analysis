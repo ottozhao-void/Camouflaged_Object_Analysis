{
 "cells": [
  {
   "cell_type": "code",
   "execution_count": 2,
   "metadata": {},
   "outputs": [
    {
     "name": "stdout",
     "output_type": "stream",
     "text": [
      "['/home/aipha/miniconda3/envs/glp/lib/python311.zip', '/home/aipha/miniconda3/envs/glp/lib/python3.11', '/home/aipha/miniconda3/envs/glp/lib/python3.11/lib-dynload', '', '/home/aipha/miniconda3/envs/glp/lib/python3.11/site-packages', '/home/aipha/miniconda3/envs/glp/lib/python3.11/site-packages/setuptools/_vendor']\n"
     ]
    },
    {
     "name": "stdout",
     "output_type": "stream",
     "text": [
      "Dataset: CamouflageDataset\n",
      "    # data: 51\n",
      "    Split: test\n",
      "    Root: /data/sinopec/xjtu/zfh/Advanced_ML_Coursework/dataset\n",
      "/data/sinopec/xjtu/zfh/Advanced_ML_Coursework/dataset/test/image/camourflage_01233.jpg\n",
      "/data/sinopec/xjtu/zfh/Advanced_ML_Coursework/dataset/test/GT/camourflage_01233.png\n"
     ]
    }
   ],
   "source": [
    "from pathlib import Path\n",
    "import sys\n",
    "print(sys.path)\n",
    "from camouflage import CamouflageDataset\n",
    "dataset_all = CamouflageDataset(\n",
    "    split_ratio=0.5,\n",
    "    dataset=\"CAMO\",\n",
    "    root=\"/data/sinopec/xjtu/zfh/Advanced_ML_Coursework/dataset\",\n",
    "    split=\"test\",\n",
    "    augment=False,\n",
    "    base_size=0,\n",
    "    crop_size=321,\n",
    "    task=\"test\"\n",
    ")\n",
    "\n",
    "print(dataset_all)\n",
    "for image, label in zip(dataset_all.image_list, dataset_all.mask_list):\n",
    "    print(image)\n",
    "    print(label)\n",
    "    break\n"
   ]
  }
 ],
 "metadata": {
  "kernelspec": {
   "display_name": "glp",
   "language": "python",
   "name": "python3"
  },
  "language_info": {
   "codemirror_mode": {
    "name": "ipython",
    "version": 3
   },
   "file_extension": ".py",
   "mimetype": "text/x-python",
   "name": "python",
   "nbconvert_exporter": "python",
   "pygments_lexer": "ipython3",
   "version": "3.11.9"
  }
 },
 "nbformat": 4,
 "nbformat_minor": 2
}
