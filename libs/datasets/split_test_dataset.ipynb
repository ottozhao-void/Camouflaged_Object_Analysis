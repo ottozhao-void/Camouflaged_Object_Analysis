{
 "cells": [
  {
   "cell_type": "code",
   "execution_count": 12,
   "metadata": {},
   "outputs": [],
   "source": [
    "from camouflage import CamouflageDataset\n",
    "from omegaconf import OmegaConf\n",
    "from torch.utils.data import DataLoader, SubsetRandomSampler\n",
    "import numpy as np\n",
    "\n",
    "CONFIG = OmegaConf.load(\"/data1/zhaofanghan/Advanced_ML_Coursework/configs/camouflage.yaml\")\n",
    "test_dataset = CamouflageDataset(\n",
    "        root=CONFIG.DATASET.ROOT,\n",
    "        split=CONFIG.DATASET.SPLIT.TEST,\n",
    "        ignore_label=CONFIG.DATASET.IGNORE_LABEL,\n",
    "        augment=False,\n",
    "        base_size=CONFIG.IMAGE.SIZE.BASE,\n",
    "        crop_size=CONFIG.IMAGE.SIZE.TEST\n",
    "    )"
   ]
  },
  {
   "cell_type": "code",
   "execution_count": null,
   "metadata": {},
   "outputs": [],
   "source": [
    "\n",
    "indices = list(range(len(test_dataset)-2))\n",
    "np.random.seed(CONFIG.DATASET.SEED)\n",
    "np.random.shuffle(indices)\n",
    "\n",
    "val_portion = int(CONFIG.DATASET.PORTION.VAL*len(test_dataset))\n",
    "val_indices, test_indices = indices[:val_portion], indices[val_portion:]\n",
    "\n",
    "val_sampler = SubsetRandomSampler(val_indices)\n",
    "test_sampler = SubsetRandomSampler(test_indices)\n",
    "\n",
    "val_loader = DataLoader(\n",
    "    test_dataset,\n",
    "    batch_size=CONFIG.SOLVER.BATCH_SIZE.VAL,\n",
    "    sampler=val_sampler\n",
    ")\n",
    "test_loader = DataLoader(\n",
    "    test_dataset,\n",
    "    batch_size=CONFIG.SOLVER.BATCH_SIZE.TEST,\n",
    "    sampler=test_sampler\n",
    ")\n"
   ]
  }
 ],
 "metadata": {
  "kernelspec": {
   "display_name": "moment-detr",
   "language": "python",
   "name": "python3"
  },
  "language_info": {
   "codemirror_mode": {
    "name": "ipython",
    "version": 3
   },
   "file_extension": ".py",
   "mimetype": "text/x-python",
   "name": "python",
   "nbconvert_exporter": "python",
   "pygments_lexer": "ipython3",
   "version": "3.9.20"
  }
 },
 "nbformat": 4,
 "nbformat_minor": 2
}
