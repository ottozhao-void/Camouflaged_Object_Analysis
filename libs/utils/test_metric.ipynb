{
 "cells": [
  {
   "cell_type": "code",
   "execution_count": 1,
   "metadata": {},
   "outputs": [],
   "source": [
    "from metric import Metric\n",
    "import torch\n",
    "from PIL import Image\n",
    "from torchvision import transforms\n",
    "\n",
    "device = torch.cuda.current_device()\n",
    "metric = Metric(device)"
   ]
  },
  {
   "cell_type": "code",
   "execution_count": null,
   "metadata": {},
   "outputs": [
    {
     "name": "stdout",
     "output_type": "stream",
     "text": [
      "torch.float32\n"
     ]
    }
   ],
   "source": [
    "gt_mask = Image.open(\"/data/sinopec/xjtu/zfh/Advanced_ML_Coursework/dataset/test/GT/camourflage_01057.png\").convert(\"L\")\n",
    "pred_mask = Image.open(\"/data/sinopec/xjtu/zfh/Advanced_ML_Coursework/dataset/test/GT/camourflage_01057.png\").convert(\"L\")\n",
    "transform = transforms.ToTensor()\n",
    "\n",
    "gt_mask = transform(gt_mask).squeeze(0).to(dtype=torch.long).to(torch.float32)\n",
    "pred_mask = transform(pred_mask).squeeze(0).to(torch.float64).to(torch.float32)"
   ]
  },
  {
   "cell_type": "code",
   "execution_count": 3,
   "metadata": {},
   "outputs": [],
   "source": [
    "metric.add(pred_label=pred_mask, gt_label=gt_mask)\n",
    "metric.add(pred_label=pred_mask, gt_label=gt_mask)"
   ]
  },
  {
   "cell_type": "code",
   "execution_count": null,
   "metadata": {},
   "outputs": [
    {
     "data": {
      "text/plain": [
       "torch.Size([2])"
      ]
     },
     "execution_count": 4,
     "metadata": {},
     "output_type": "execute_result"
    }
   ],
   "source": [
    "metric.get_mae(reduce=\"none\")"
   ]
  }
 ],
 "metadata": {
  "kernelspec": {
   "display_name": "glp",
   "language": "python",
   "name": "python3"
  },
  "language_info": {
   "codemirror_mode": {
    "name": "ipython",
    "version": 3
   },
   "file_extension": ".py",
   "mimetype": "text/x-python",
   "name": "python",
   "nbconvert_exporter": "python",
   "pygments_lexer": "ipython3",
   "version": "3.11.9"
  }
 },
 "nbformat": 4,
 "nbformat_minor": 2
}
