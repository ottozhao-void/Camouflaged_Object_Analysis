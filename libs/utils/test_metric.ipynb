{
 "cells": [
  {
   "cell_type": "code",
   "execution_count": 1,
   "metadata": {},
   "outputs": [],
   "source": [
    "from metric import Metric\n",
    "import torch\n",
    "from PIL import Image\n",
    "from torchvision import transforms\n",
    "\n",
    "device = torch.cuda.current_device()\n",
    "metric = Metric(device)"
   ]
  },
  {
   "cell_type": "code",
   "execution_count": 2,
   "metadata": {},
   "outputs": [],
   "source": [
    "gt_mask = Image.open(\"/data1/zhaofanghan/Advanced_ML_Coursework/dataset/test/GT/camourflage_01055.png\").convert(\"L\")\n",
    "pred_mask = Image.open(\"/data1/zhaofanghan/Advanced_ML_Coursework/dataset/test/GT/camourflage_01055.png\").convert(\"L\")\n",
    "transform = transforms.ToTensor()\n",
    "\n",
    "gt_mask = transform(gt_mask).squeeze(0).to(device)\n",
    "pred_mask = transform(pred_mask).squeeze(0).to(device)"
   ]
  },
  {
   "cell_type": "code",
   "execution_count": 3,
   "metadata": {},
   "outputs": [],
   "source": [
    "metric.add(pred_label=pred_mask, gt_label=gt_mask)\n",
    "metric.add(pred_label=pred_mask, gt_label=gt_mask)"
   ]
  },
  {
   "cell_type": "code",
   "execution_count": null,
   "metadata": {},
   "outputs": [
    {
     "data": {
      "text/plain": [
       "torch.Size([2])"
      ]
     },
     "execution_count": 4,
     "metadata": {},
     "output_type": "execute_result"
    }
   ],
   "source": [
    "metric.get_mae(reduce=\"none\")"
   ]
  }
 ],
 "metadata": {
  "kernelspec": {
   "display_name": "moment-detr",
   "language": "python",
   "name": "python3"
  },
  "language_info": {
   "codemirror_mode": {
    "name": "ipython",
    "version": 3
   },
   "file_extension": ".py",
   "mimetype": "text/x-python",
   "name": "python",
   "nbconvert_exporter": "python",
   "pygments_lexer": "ipython3",
   "version": "3.9.21"
  }
 },
 "nbformat": 4,
 "nbformat_minor": 2
}
