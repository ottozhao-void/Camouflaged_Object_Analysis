{
 "cells": [
  {
   "cell_type": "markdown",
   "metadata": {},
   "source": [
    "# 可视化\n",
    "\n",
    "使用wandb进行mask可视化, 需要以下：\n",
    "1. image\n",
    "2. pred_mask\n",
    "3. gt_mask"
   ]
  },
  {
   "cell_type": "code",
   "execution_count": null,
   "metadata": {},
   "outputs": [
    {
     "ename": "SyntaxError",
     "evalue": "invalid syntax. Perhaps you forgot a comma? (1073629662.py, line 6)",
     "output_type": "error",
     "traceback": [
      "\u001b[0;36m  Cell \u001b[0;32mIn[1], line 6\u001b[0;36m\u001b[0m\n\u001b[0;31m    \"prediction\": {\"mask_data\": pred_mask}\u001b[0m\n\u001b[0m                  ^\u001b[0m\n\u001b[0;31mSyntaxError\u001b[0m\u001b[0;31m:\u001b[0m invalid syntax. Perhaps you forgot a comma?\n"
     ]
    }
   ],
   "source": [
    "import wandb"
   ]
  },
  {
   "cell_type": "markdown",
   "metadata": {},
   "source": [
    "从数据集取出来的image和label都是在0，1之间，且image已经被transposed了，所以需要对其进行处理"
   ]
  },
  {
   "cell_type": "code",
   "execution_count": null,
   "metadata": {},
   "outputs": [],
   "source": [
    "import torch\n",
    "\n"
   ]
  },
  {
   "cell_type": "markdown",
   "metadata": {},
   "source": [
    "模型的输出是(batch_size, 2, H, W)\n",
    "\n",
    "需要对模型的输出进行如下处理：\n",
    "1. "
   ]
  },
  {
   "cell_type": "code",
   "execution_count": null,
   "metadata": {},
   "outputs": [],
   "source": [
    "def crf_process(model, image):\n",
    "    import torch.nn.functional as F\n",
    "    \n",
    "    # Get model prediction\n",
    "    logit = model(image)\n",
    "    \n",
    "    # Resize and get probabilities\n",
    "    H, W = image.shape[-2:]\n",
    "    logit = F.interpolate(logit, size=(H, W), mode=\"bilinear\", align_corners=False)\n",
    "    prob = F.softmax(logit, dim=1)[0].cpu().numpy()\n",
    "    \n",
    "    # Convert image for CRF\n",
    "    img_np = (image[0].permute(1,2,0).cpu().numpy() * 255).astype(np.uint8)\n",
    "    \n",
    "    return prob, img_np\n"
   ]
  },
  {
   "cell_type": "code",
   "execution_count": null,
   "metadata": {},
   "outputs": [],
   "source": [
    "def visualize_masks(image, pred_mask, gt_mask):\n",
    "    \"\"\"Visualize image and masks using wandb\"\"\"\n",
    "    return wandb.Image(\n",
    "        image,\n",
    "        masks={\n",
    "            \"prediction\": {\"mask_data\": pred_mask},\n",
    "            \"ground_truth\": {\"mask_data\": gt_mask}\n",
    "        }\n",
    "    )\n"
   ]
  }
 ],
 "metadata": {
  "kernelspec": {
   "display_name": "glp",
   "language": "python",
   "name": "python3"
  },
  "language_info": {
   "codemirror_mode": {
    "name": "ipython",
    "version": 3
   },
   "file_extension": ".py",
   "mimetype": "text/x-python",
   "name": "python",
   "nbconvert_exporter": "python",
   "pygments_lexer": "ipython3",
   "version": "3.11.9"
  }
 },
 "nbformat": 4,
 "nbformat_minor": 2
}
