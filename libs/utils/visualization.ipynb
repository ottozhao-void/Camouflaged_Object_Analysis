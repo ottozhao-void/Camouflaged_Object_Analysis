{
 "cells": [
  {
   "cell_type": "markdown",
   "metadata": {},
   "source": [
    "# 可视化\n",
    "\n",
    "使用wandb进行mask可视化, 需要以下：\n",
    "1. image\n",
    "2. pred_mask\n",
    "3. gt_mask"
   ]
  },
  {
   "cell_type": "code",
   "execution_count": 1,
   "metadata": {},
   "outputs": [
    {
     "ename": "SyntaxError",
     "evalue": "invalid syntax. Perhaps you forgot a comma? (1073629662.py, line 6)",
     "output_type": "error",
     "traceback": [
      "\u001b[0;36m  Cell \u001b[0;32mIn[1], line 6\u001b[0;36m\u001b[0m\n\u001b[0;31m    \"prediction\": {\"mask_data\": pred_mask}\u001b[0m\n\u001b[0m                  ^\u001b[0m\n\u001b[0;31mSyntaxError\u001b[0m\u001b[0;31m:\u001b[0m invalid syntax. Perhaps you forgot a comma?\n"
     ]
    }
   ],
   "source": [
    "import wandb\n",
    "\n",
    "masked_image = wandb.Image(\n",
    "    image,\n",
    "    mask={\n",
    "        \"prediction\": {\"mask_data\": pred_mask}\n",
    "        \"groud_truth\": {\"mask_data\": gt_mask}\n",
    "    }\n",
    ")"
   ]
  },
  {
   "cell_type": "markdown",
   "metadata": {},
   "source": [
    "从数据集取出来的image和label都是在0，1之间，且image已经被transposed了，所以需要对其进行处理"
   ]
  },
  {
   "cell_type": "code",
   "execution_count": null,
   "metadata": {},
   "outputs": [],
   "source": [
    "import torch\n",
    "def convert_image_mask(image, mask):\n",
    "    \"\"\"\n",
    "    image 是一个(1,3,H,W)，值位于0到1之间的张量，类型为torch.float32\n",
    "    mask 是一个(1,H,W)，值位于0到1之间的张量，类型为torch.int64\n",
    "    \n",
    "    需要将image变成(H,W,3)的numpy数组，值位于0到255之间，类型为np.uint8\n",
    "    需要将mask变成(H,W)的numpy数组，值位于0到255之间，类型为np.uint8\n",
    "    \"\"\"\n",
    "    # 检查\n",
    "    assert image.dim() == 4 and image.size(0) == 1 and image.size(1) == 3\n",
    "    assert mask.dim() == 3 and mask.size(0) == 1\n",
    "    assert image.dtype == torch.float32 and mask.dtype == torch.int64\n",
    "    assert image.min() >= 0 and image.max() <= 1\n",
    "    assert mask.min() >= 0 and mask.max() <= 1\n",
    "    \n",
    "    image = image.squeeze(0).permute(1,2,0).mul(255).byte().numpy()\n",
    "    mask = mask.squeeze(0).mul(255).byte().numpy()\n",
    "    return image, mask"
   ]
  },
  {
   "cell_type": "markdown",
   "metadata": {},
   "source": [
    "模型的输出是(batch_size, 2, H, W)\n",
    "\n",
    "需要对模型的输出进行如下处理：\n",
    "1. "
   ]
  },
  {
   "cell_type": "code",
   "execution_count": null,
   "metadata": {},
   "outputs": [],
   "source": [
    "def crf_process(model, image):\n",
    "    logit = model(image)\n",
    "    \n",
    "    logit = F.interpolate(logit, size=(H, W), mode=\"bilinear\", align_corners=False)\n",
    "    prob = F.softmax(logit, dim=1)[0].numpy()\n",
    "\n",
    "    image = image.astype(np.uint8).transpose(1, 2, 0)\n",
    "    prob = postprocessor(image, prob)\n",
    "    label = np.argmax(prob, axis=0)"
   ]
  }
 ],
 "metadata": {
  "kernelspec": {
   "display_name": "glp",
   "language": "python",
   "name": "python3"
  },
  "language_info": {
   "codemirror_mode": {
    "name": "ipython",
    "version": 3
   },
   "file_extension": ".py",
   "mimetype": "text/x-python",
   "name": "python",
   "nbconvert_exporter": "python",
   "pygments_lexer": "ipython3",
   "version": "3.11.9"
  }
 },
 "nbformat": 4,
 "nbformat_minor": 2
}
